{
  "cells": [
    {
      "cell_type": "code",
      "execution_count": null,
      "metadata": {
        "colab": {
          "base_uri": "https://localhost:8080/"
        },
        "id": "ZOwl2WISWzOc",
        "outputId": "889ab8bc-cb17-47fe-f1b6-0196ee5aa8de"
      },
      "outputs": [
        {
          "output_type": "stream",
          "name": "stdout",
          "text": [
            "Mounted at /content/drive\n"
          ]
        }
      ],
      "source": [
        "from google.colab import drive\n",
        "drive.mount('/content/drive')"
      ]
    },
    {
      "cell_type": "code",
      "execution_count": null,
      "metadata": {
        "id": "bc24NKKQW_cG"
      },
      "outputs": [],
      "source": [
        "import pandas as pd\n",
        "import numpy as np\n",
        "import matplotlib.pyplot as plt\n",
        "import os\n",
        "import tensorflow as tf\n",
        "import cv2\n",
        "from sklearn.model_selection import train_test_split\n",
        "from tensorflow.keras.preprocessing.image import ImageDataGenerator, load_img, img_to_array\n",
        "from tensorflow.keras.callbacks import EarlyStopping, ModelCheckpoint, ReduceLROnPlateau\n",
        "from tensorflow.keras.models import Sequential\n",
        "from tensorflow.keras.layers import *\n",
        "from tensorflow.keras.applications import ResNet50V2"
      ]
    },
    {
      "cell_type": "code",
      "execution_count": null,
      "metadata": {
        "id": "-Br3A_z4XL_6"
      },
      "outputs": [],
      "source": [
        "from collections import Counter\n",
        "\n",
        "def Classes_Count(generator, name):\n",
        "    counter = Counter(generator.classes)\n",
        "    class_indices = {v: k for k, v in generator.class_indices.items()}\n",
        "    count_df = pd.DataFrame.from_dict(counter, orient='index', columns=[name])\n",
        "    count_df.index = count_df.index.map(class_indices)\n",
        "    return count_df"
      ]
    },
    {
      "cell_type": "code",
      "execution_count": null,
      "metadata": {
        "id": "89zp6YQ8XJ1Z"
      },
      "outputs": [],
      "source": [
        "# Data paths\n",
        "train_dir = 'path to your train directory'\n",
        "test_dir = 'path to your test directory'"
      ]
    },
    {
      "cell_type": "code",
      "execution_count": null,
      "metadata": {
        "id": "7xHFl3bqXOyX"
      },
      "outputs": [],
      "source": [
        "# Image parameters\n",
        "img_shape = 224\n",
        "batch_size = 64"
      ]
    },
    {
      "cell_type": "code",
      "execution_count": null,
      "metadata": {
        "id": "nI_DnpnvXPqc"
      },
      "outputs": [],
      "source": [
        "from tensorflow.keras.preprocessing.image import ImageDataGenerator\n",
        "# ImageDataGenerator for train and test data\n",
        "train_preprocessor = ImageDataGenerator(\n",
        "    rescale=1 / 255.,\n",
        "    rotation_range=10,\n",
        "    zoom_range=0.2,\n",
        "    width_shift_range=0.1,\n",
        "    height_shift_range=0.1,\n",
        "    horizontal_flip=True,\n",
        "    fill_mode='nearest',\n",
        "    validation_split=0.1\n",
        ")\n",
        "\n",
        "test_preprocessor = ImageDataGenerator(\n",
        "    rescale=1 / 255.\n",
        "\n",
        ")"
      ]
    },
    {
      "cell_type": "code",
      "execution_count": null,
      "metadata": {
        "colab": {
          "base_uri": "https://localhost:8080/"
        },
        "id": "oaGJDb_pbNyZ",
        "outputId": "5f97d687-3532-469b-bb0d-af7dcfce3f5a"
      },
      "outputs": [
        {
          "output_type": "stream",
          "name": "stdout",
          "text": [
            "Found 10665 images belonging to 3 classes.\n",
            "Found 1185 images belonging to 3 classes.\n",
            "Found 2850 images belonging to 3 classes.\n"
          ]
        }
      ],
      "source": [
        "# Load training data (90% of data)\n",
        "train_data = train_preprocessor.flow_from_directory(\n",
        "    train_dir,\n",
        "    class_mode=\"categorical\",\n",
        "    target_size=(img_shape, img_shape),\n",
        "    color_mode='rgb',\n",
        "    shuffle=True,\n",
        "    batch_size=batch_size,\n",
        "    subset='training',\n",
        ")\n",
        "\n",
        "# Load validation data (10% of data)\n",
        "validation_data = train_preprocessor.flow_from_directory(\n",
        "    train_dir,\n",
        "    class_mode=\"categorical\",\n",
        "    target_size=(img_shape, img_shape),\n",
        "    color_mode='rgb',\n",
        "    shuffle=True,\n",
        "    batch_size=batch_size,\n",
        "    subset='validation'\n",
        ")\n",
        "\n",
        "test_data = test_preprocessor.flow_from_directory(\n",
        "    test_dir,\n",
        "    class_mode=\"categorical\",\n",
        "    target_size=(img_shape, img_shape),\n",
        "    color_mode=\"rgb\",\n",
        "    shuffle=False,\n",
        "    batch_size=batch_size,\n",
        ")"
      ]
    },
    {
      "cell_type": "code",
      "execution_count": null,
      "metadata": {
        "colab": {
          "base_uri": "https://localhost:8080/",
          "height": 143
        },
        "id": "k0Ml2skwXNqi",
        "outputId": "f6641c99-92c4-42d9-b382-3f0c6fd99783"
      },
      "outputs": [
        {
          "output_type": "execute_result",
          "data": {
            "text/plain": [
              "       Train  Validation  Test\n",
              "angry   3555         395   950\n",
              "happy   3555         395   950\n",
              "sad     3555         395   950"
            ],
            "text/html": [
              "\n",
              "  <div id=\"df-25bd34e9-6a58-4687-82ad-39f9f3768062\" class=\"colab-df-container\">\n",
              "    <div>\n",
              "<style scoped>\n",
              "    .dataframe tbody tr th:only-of-type {\n",
              "        vertical-align: middle;\n",
              "    }\n",
              "\n",
              "    .dataframe tbody tr th {\n",
              "        vertical-align: top;\n",
              "    }\n",
              "\n",
              "    .dataframe thead th {\n",
              "        text-align: right;\n",
              "    }\n",
              "</style>\n",
              "<table border=\"1\" class=\"dataframe\">\n",
              "  <thead>\n",
              "    <tr style=\"text-align: right;\">\n",
              "      <th></th>\n",
              "      <th>Train</th>\n",
              "      <th>Validation</th>\n",
              "      <th>Test</th>\n",
              "    </tr>\n",
              "  </thead>\n",
              "  <tbody>\n",
              "    <tr>\n",
              "      <th>angry</th>\n",
              "      <td>3555</td>\n",
              "      <td>395</td>\n",
              "      <td>950</td>\n",
              "    </tr>\n",
              "    <tr>\n",
              "      <th>happy</th>\n",
              "      <td>3555</td>\n",
              "      <td>395</td>\n",
              "      <td>950</td>\n",
              "    </tr>\n",
              "    <tr>\n",
              "      <th>sad</th>\n",
              "      <td>3555</td>\n",
              "      <td>395</td>\n",
              "      <td>950</td>\n",
              "    </tr>\n",
              "  </tbody>\n",
              "</table>\n",
              "</div>\n",
              "    <div class=\"colab-df-buttons\">\n",
              "\n",
              "  <div class=\"colab-df-container\">\n",
              "    <button class=\"colab-df-convert\" onclick=\"convertToInteractive('df-25bd34e9-6a58-4687-82ad-39f9f3768062')\"\n",
              "            title=\"Convert this dataframe to an interactive table.\"\n",
              "            style=\"display:none;\">\n",
              "\n",
              "  <svg xmlns=\"http://www.w3.org/2000/svg\" height=\"24px\" viewBox=\"0 -960 960 960\">\n",
              "    <path d=\"M120-120v-720h720v720H120Zm60-500h600v-160H180v160Zm220 220h160v-160H400v160Zm0 220h160v-160H400v160ZM180-400h160v-160H180v160Zm440 0h160v-160H620v160ZM180-180h160v-160H180v160Zm440 0h160v-160H620v160Z\"/>\n",
              "  </svg>\n",
              "    </button>\n",
              "\n",
              "  <style>\n",
              "    .colab-df-container {\n",
              "      display:flex;\n",
              "      gap: 12px;\n",
              "    }\n",
              "\n",
              "    .colab-df-convert {\n",
              "      background-color: #E8F0FE;\n",
              "      border: none;\n",
              "      border-radius: 50%;\n",
              "      cursor: pointer;\n",
              "      display: none;\n",
              "      fill: #1967D2;\n",
              "      height: 32px;\n",
              "      padding: 0 0 0 0;\n",
              "      width: 32px;\n",
              "    }\n",
              "\n",
              "    .colab-df-convert:hover {\n",
              "      background-color: #E2EBFA;\n",
              "      box-shadow: 0px 1px 2px rgba(60, 64, 67, 0.3), 0px 1px 3px 1px rgba(60, 64, 67, 0.15);\n",
              "      fill: #174EA6;\n",
              "    }\n",
              "\n",
              "    .colab-df-buttons div {\n",
              "      margin-bottom: 4px;\n",
              "    }\n",
              "\n",
              "    [theme=dark] .colab-df-convert {\n",
              "      background-color: #3B4455;\n",
              "      fill: #D2E3FC;\n",
              "    }\n",
              "\n",
              "    [theme=dark] .colab-df-convert:hover {\n",
              "      background-color: #434B5C;\n",
              "      box-shadow: 0px 1px 3px 1px rgba(0, 0, 0, 0.15);\n",
              "      filter: drop-shadow(0px 1px 2px rgba(0, 0, 0, 0.3));\n",
              "      fill: #FFFFFF;\n",
              "    }\n",
              "  </style>\n",
              "\n",
              "    <script>\n",
              "      const buttonEl =\n",
              "        document.querySelector('#df-25bd34e9-6a58-4687-82ad-39f9f3768062 button.colab-df-convert');\n",
              "      buttonEl.style.display =\n",
              "        google.colab.kernel.accessAllowed ? 'block' : 'none';\n",
              "\n",
              "      async function convertToInteractive(key) {\n",
              "        const element = document.querySelector('#df-25bd34e9-6a58-4687-82ad-39f9f3768062');\n",
              "        const dataTable =\n",
              "          await google.colab.kernel.invokeFunction('convertToInteractive',\n",
              "                                                    [key], {});\n",
              "        if (!dataTable) return;\n",
              "\n",
              "        const docLinkHtml = 'Like what you see? Visit the ' +\n",
              "          '<a target=\"_blank\" href=https://colab.research.google.com/notebooks/data_table.ipynb>data table notebook</a>'\n",
              "          + ' to learn more about interactive tables.';\n",
              "        element.innerHTML = '';\n",
              "        dataTable['output_type'] = 'display_data';\n",
              "        await google.colab.output.renderOutput(dataTable, element);\n",
              "        const docLink = document.createElement('div');\n",
              "        docLink.innerHTML = docLinkHtml;\n",
              "        element.appendChild(docLink);\n",
              "      }\n",
              "    </script>\n",
              "  </div>\n",
              "\n",
              "\n",
              "<div id=\"df-1f2f8c47-18eb-4584-a355-b35546dcc0e6\">\n",
              "  <button class=\"colab-df-quickchart\" onclick=\"quickchart('df-1f2f8c47-18eb-4584-a355-b35546dcc0e6')\"\n",
              "            title=\"Suggest charts\"\n",
              "            style=\"display:none;\">\n",
              "\n",
              "<svg xmlns=\"http://www.w3.org/2000/svg\" height=\"24px\"viewBox=\"0 0 24 24\"\n",
              "     width=\"24px\">\n",
              "    <g>\n",
              "        <path d=\"M19 3H5c-1.1 0-2 .9-2 2v14c0 1.1.9 2 2 2h14c1.1 0 2-.9 2-2V5c0-1.1-.9-2-2-2zM9 17H7v-7h2v7zm4 0h-2V7h2v10zm4 0h-2v-4h2v4z\"/>\n",
              "    </g>\n",
              "</svg>\n",
              "  </button>\n",
              "\n",
              "<style>\n",
              "  .colab-df-quickchart {\n",
              "      --bg-color: #E8F0FE;\n",
              "      --fill-color: #1967D2;\n",
              "      --hover-bg-color: #E2EBFA;\n",
              "      --hover-fill-color: #174EA6;\n",
              "      --disabled-fill-color: #AAA;\n",
              "      --disabled-bg-color: #DDD;\n",
              "  }\n",
              "\n",
              "  [theme=dark] .colab-df-quickchart {\n",
              "      --bg-color: #3B4455;\n",
              "      --fill-color: #D2E3FC;\n",
              "      --hover-bg-color: #434B5C;\n",
              "      --hover-fill-color: #FFFFFF;\n",
              "      --disabled-bg-color: #3B4455;\n",
              "      --disabled-fill-color: #666;\n",
              "  }\n",
              "\n",
              "  .colab-df-quickchart {\n",
              "    background-color: var(--bg-color);\n",
              "    border: none;\n",
              "    border-radius: 50%;\n",
              "    cursor: pointer;\n",
              "    display: none;\n",
              "    fill: var(--fill-color);\n",
              "    height: 32px;\n",
              "    padding: 0;\n",
              "    width: 32px;\n",
              "  }\n",
              "\n",
              "  .colab-df-quickchart:hover {\n",
              "    background-color: var(--hover-bg-color);\n",
              "    box-shadow: 0 1px 2px rgba(60, 64, 67, 0.3), 0 1px 3px 1px rgba(60, 64, 67, 0.15);\n",
              "    fill: var(--button-hover-fill-color);\n",
              "  }\n",
              "\n",
              "  .colab-df-quickchart-complete:disabled,\n",
              "  .colab-df-quickchart-complete:disabled:hover {\n",
              "    background-color: var(--disabled-bg-color);\n",
              "    fill: var(--disabled-fill-color);\n",
              "    box-shadow: none;\n",
              "  }\n",
              "\n",
              "  .colab-df-spinner {\n",
              "    border: 2px solid var(--fill-color);\n",
              "    border-color: transparent;\n",
              "    border-bottom-color: var(--fill-color);\n",
              "    animation:\n",
              "      spin 1s steps(1) infinite;\n",
              "  }\n",
              "\n",
              "  @keyframes spin {\n",
              "    0% {\n",
              "      border-color: transparent;\n",
              "      border-bottom-color: var(--fill-color);\n",
              "      border-left-color: var(--fill-color);\n",
              "    }\n",
              "    20% {\n",
              "      border-color: transparent;\n",
              "      border-left-color: var(--fill-color);\n",
              "      border-top-color: var(--fill-color);\n",
              "    }\n",
              "    30% {\n",
              "      border-color: transparent;\n",
              "      border-left-color: var(--fill-color);\n",
              "      border-top-color: var(--fill-color);\n",
              "      border-right-color: var(--fill-color);\n",
              "    }\n",
              "    40% {\n",
              "      border-color: transparent;\n",
              "      border-right-color: var(--fill-color);\n",
              "      border-top-color: var(--fill-color);\n",
              "    }\n",
              "    60% {\n",
              "      border-color: transparent;\n",
              "      border-right-color: var(--fill-color);\n",
              "    }\n",
              "    80% {\n",
              "      border-color: transparent;\n",
              "      border-right-color: var(--fill-color);\n",
              "      border-bottom-color: var(--fill-color);\n",
              "    }\n",
              "    90% {\n",
              "      border-color: transparent;\n",
              "      border-bottom-color: var(--fill-color);\n",
              "    }\n",
              "  }\n",
              "</style>\n",
              "\n",
              "  <script>\n",
              "    async function quickchart(key) {\n",
              "      const quickchartButtonEl =\n",
              "        document.querySelector('#' + key + ' button');\n",
              "      quickchartButtonEl.disabled = true;  // To prevent multiple clicks.\n",
              "      quickchartButtonEl.classList.add('colab-df-spinner');\n",
              "      try {\n",
              "        const charts = await google.colab.kernel.invokeFunction(\n",
              "            'suggestCharts', [key], {});\n",
              "      } catch (error) {\n",
              "        console.error('Error during call to suggestCharts:', error);\n",
              "      }\n",
              "      quickchartButtonEl.classList.remove('colab-df-spinner');\n",
              "      quickchartButtonEl.classList.add('colab-df-quickchart-complete');\n",
              "    }\n",
              "    (() => {\n",
              "      let quickchartButtonEl =\n",
              "        document.querySelector('#df-1f2f8c47-18eb-4584-a355-b35546dcc0e6 button');\n",
              "      quickchartButtonEl.style.display =\n",
              "        google.colab.kernel.accessAllowed ? 'block' : 'none';\n",
              "    })();\n",
              "  </script>\n",
              "</div>\n",
              "\n",
              "  <div id=\"id_197f6edf-c7a2-46de-a338-a423f8762850\">\n",
              "    <style>\n",
              "      .colab-df-generate {\n",
              "        background-color: #E8F0FE;\n",
              "        border: none;\n",
              "        border-radius: 50%;\n",
              "        cursor: pointer;\n",
              "        display: none;\n",
              "        fill: #1967D2;\n",
              "        height: 32px;\n",
              "        padding: 0 0 0 0;\n",
              "        width: 32px;\n",
              "      }\n",
              "\n",
              "      .colab-df-generate:hover {\n",
              "        background-color: #E2EBFA;\n",
              "        box-shadow: 0px 1px 2px rgba(60, 64, 67, 0.3), 0px 1px 3px 1px rgba(60, 64, 67, 0.15);\n",
              "        fill: #174EA6;\n",
              "      }\n",
              "\n",
              "      [theme=dark] .colab-df-generate {\n",
              "        background-color: #3B4455;\n",
              "        fill: #D2E3FC;\n",
              "      }\n",
              "\n",
              "      [theme=dark] .colab-df-generate:hover {\n",
              "        background-color: #434B5C;\n",
              "        box-shadow: 0px 1px 3px 1px rgba(0, 0, 0, 0.15);\n",
              "        filter: drop-shadow(0px 1px 2px rgba(0, 0, 0, 0.3));\n",
              "        fill: #FFFFFF;\n",
              "      }\n",
              "    </style>\n",
              "    <button class=\"colab-df-generate\" onclick=\"generateWithVariable('result')\"\n",
              "            title=\"Generate code using this dataframe.\"\n",
              "            style=\"display:none;\">\n",
              "\n",
              "  <svg xmlns=\"http://www.w3.org/2000/svg\" height=\"24px\"viewBox=\"0 0 24 24\"\n",
              "       width=\"24px\">\n",
              "    <path d=\"M7,19H8.4L18.45,9,17,7.55,7,17.6ZM5,21V16.75L18.45,3.32a2,2,0,0,1,2.83,0l1.4,1.43a1.91,1.91,0,0,1,.58,1.4,1.91,1.91,0,0,1-.58,1.4L9.25,21ZM18.45,9,17,7.55Zm-12,3A5.31,5.31,0,0,0,4.9,8.1,5.31,5.31,0,0,0,1,6.5,5.31,5.31,0,0,0,4.9,4.9,5.31,5.31,0,0,0,6.5,1,5.31,5.31,0,0,0,8.1,4.9,5.31,5.31,0,0,0,12,6.5,5.46,5.46,0,0,0,6.5,12Z\"/>\n",
              "  </svg>\n",
              "    </button>\n",
              "    <script>\n",
              "      (() => {\n",
              "      const buttonEl =\n",
              "        document.querySelector('#id_197f6edf-c7a2-46de-a338-a423f8762850 button.colab-df-generate');\n",
              "      buttonEl.style.display =\n",
              "        google.colab.kernel.accessAllowed ? 'block' : 'none';\n",
              "\n",
              "      buttonEl.onclick = () => {\n",
              "        google.colab.notebook.generateWithVariable('result');\n",
              "      }\n",
              "      })();\n",
              "    </script>\n",
              "  </div>\n",
              "\n",
              "    </div>\n",
              "  </div>\n"
            ],
            "application/vnd.google.colaboratory.intrinsic+json": {
              "type": "dataframe",
              "variable_name": "result",
              "summary": "{\n  \"name\": \"result\",\n  \"rows\": 3,\n  \"fields\": [\n    {\n      \"column\": \"Train\",\n      \"properties\": {\n        \"dtype\": \"number\",\n        \"std\": 0,\n        \"min\": 3555,\n        \"max\": 3555,\n        \"num_unique_values\": 1,\n        \"samples\": [\n          3555\n        ],\n        \"semantic_type\": \"\",\n        \"description\": \"\"\n      }\n    },\n    {\n      \"column\": \"Validation\",\n      \"properties\": {\n        \"dtype\": \"number\",\n        \"std\": 0,\n        \"min\": 395,\n        \"max\": 395,\n        \"num_unique_values\": 1,\n        \"samples\": [\n          395\n        ],\n        \"semantic_type\": \"\",\n        \"description\": \"\"\n      }\n    },\n    {\n      \"column\": \"Test\",\n      \"properties\": {\n        \"dtype\": \"number\",\n        \"std\": 0,\n        \"min\": 950,\n        \"max\": 950,\n        \"num_unique_values\": 1,\n        \"samples\": [\n          950\n        ],\n        \"semantic_type\": \"\",\n        \"description\": \"\"\n      }\n    }\n  ]\n}"
            }
          },
          "metadata": {},
          "execution_count": 8
        }
      ],
      "source": [
        "# Count classes in train, validation, and test datasets\n",
        "Train_Count = Classes_Count(train_data, 'Train').sort_values(by=\"Train\", ascending=False)\n",
        "Validation_Count = Classes_Count(validation_data, 'Validation').sort_values(by=\"Validation\", ascending=False)\n",
        "Test_Count = Classes_Count(test_data, 'Test').sort_values(by=\"Test\", ascending=False)\n",
        "\n",
        "# Concatenate the results\n",
        "result = pd.concat([Train_Count, Validation_Count, Test_Count], axis=1)\n",
        "result\n"
      ]
    },
    {
      "cell_type": "code",
      "execution_count": null,
      "metadata": {
        "id": "jkJL9kHwXRFX",
        "colab": {
          "base_uri": "https://localhost:8080/"
        },
        "outputId": "63ac2c2d-4937-40a3-b048-7cb2b2d51d18"
      },
      "outputs": [
        {
          "output_type": "stream",
          "name": "stdout",
          "text": [
            "Downloading data from https://storage.googleapis.com/tensorflow/keras-applications/resnet/resnet50v2_weights_tf_dim_ordering_tf_kernels_notop.h5\n",
            "94668760/94668760 [==============================] - 1s 0us/step\n"
          ]
        }
      ],
      "source": [
        "ResNet50V2_base = ResNet50V2(input_shape=(img_shape, img_shape, 3),\n",
        "                             include_top=False,\n",
        "                             weights='imagenet'\n",
        "                             )\n",
        "\n",
        "# Freeze all layers except last 50\n",
        "ResNet50V2_base.trainable = True\n",
        "for layer in ResNet50V2_base.layers[:-50]:\n",
        "    layer.trainable = False\n",
        "\n",
        "# Custom model using ResNet50V2\n",
        "def Create_Custom_ResNet50V2_Model():\n",
        "    model = Sequential([\n",
        "        ResNet50V2_base,\n",
        "        Dropout(0.25),\n",
        "        BatchNormalization(),\n",
        "        Flatten(),\n",
        "        Dense(64, activation='relu'),\n",
        "        BatchNormalization(),\n",
        "        Dropout(0.5),\n",
        "        Dense(3, activation='softmax')\n",
        "    ])\n",
        "    return model\n",
        "\n",
        "ResNet50V2_Model = Create_Custom_ResNet50V2_Model()\n",
        "ResNet50V2_Model.compile(optimizer='adam', loss='categorical_crossentropy', metrics=['accuracy'])"
      ]
    },
    {
      "cell_type": "code",
      "execution_count": null,
      "metadata": {
        "colab": {
          "base_uri": "https://localhost:8080/"
        },
        "collapsed": true,
        "id": "Yy4VxRNUTIRF",
        "outputId": "32cf4bf0-00d7-4d3d-c205-394d15a3e85a"
      },
      "outputs": [
        {
          "output_type": "stream",
          "name": "stdout",
          "text": [
            "Model: \"sequential_1\"\n",
            "_________________________________________________________________\n",
            " Layer (type)                Output Shape              Param #   \n",
            "=================================================================\n",
            " resnet50v2 (Functional)     (None, 7, 7, 2048)        23564800  \n",
            "                                                                 \n",
            " dropout_2 (Dropout)         (None, 7, 7, 2048)        0         \n",
            "                                                                 \n",
            " batch_normalization_2 (Bat  (None, 7, 7, 2048)        8192      \n",
            " chNormalization)                                                \n",
            "                                                                 \n",
            " flatten_1 (Flatten)         (None, 100352)            0         \n",
            "                                                                 \n",
            " dense_2 (Dense)             (None, 64)                6422592   \n",
            "                                                                 \n",
            " batch_normalization_3 (Bat  (None, 64)                256       \n",
            " chNormalization)                                                \n",
            "                                                                 \n",
            " dropout_3 (Dropout)         (None, 64)                0         \n",
            "                                                                 \n",
            " dense_3 (Dense)             (None, 3)                 195       \n",
            "                                                                 \n",
            "=================================================================\n",
            "Total params: 29996035 (114.43 MB)\n",
            "Trainable params: 22779267 (86.90 MB)\n",
            "Non-trainable params: 7216768 (27.53 MB)\n",
            "_________________________________________________________________\n"
          ]
        }
      ],
      "source": [
        "ResNet50V2_Model.summary()"
      ]
    },
    {
      "cell_type": "code",
      "execution_count": null,
      "metadata": {
        "id": "vPKgSLKLXSDF"
      },
      "outputs": [],
      "source": [
        "# Callbacks\n",
        "checkpoint_path = \"ResNet50V2_Model_Checkpoint.keras\"\n",
        "Checkpoint = ModelCheckpoint(checkpoint_path, monitor=\"val_accuracy\", save_best_only=True)\n",
        "Early_Stopping = EarlyStopping(monitor='val_accuracy', patience=7, restore_best_weights=True, verbose=1)\n",
        "Reducing_LR = ReduceLROnPlateau(monitor='val_loss', factor=0.2, patience=2, verbose=1)\n",
        "\n",
        "callbacks = [Checkpoint,Early_Stopping, Reducing_LR]\n",
        "\n",
        "steps_per_epoch = train_data.n // train_data.batch_size\n",
        "validation_steps = validation_data.n // validation_data.batch_size"
      ]
    },
    {
      "cell_type": "code",
      "execution_count": null,
      "metadata": {
        "colab": {
          "base_uri": "https://localhost:8080/"
        },
        "id": "-aoPZ0KzXS-a",
        "outputId": "577f179c-9728-4a7d-b30f-4cfec52a8953"
      },
      "outputs": [
        {
          "output_type": "stream",
          "name": "stdout",
          "text": [
            "Epoch 1/30\n",
            "166/166 [==============================] - 2668s 15s/step - loss: 0.9963 - accuracy: 0.6226 - val_loss: 9.0890 - val_accuracy: 0.4931 - lr: 0.0010\n",
            "Epoch 2/30\n",
            "166/166 [==============================] - 204s 1s/step - loss: 0.7509 - accuracy: 0.6911 - val_loss: 1.1751 - val_accuracy: 0.7049 - lr: 0.0010\n",
            "Epoch 3/30\n",
            "166/166 [==============================] - 199s 1s/step - loss: 0.6011 - accuracy: 0.7473 - val_loss: 0.5881 - val_accuracy: 0.7578 - lr: 0.0010\n",
            "Epoch 4/30\n",
            "166/166 [==============================] - 195s 1s/step - loss: 0.5360 - accuracy: 0.7799 - val_loss: 0.5756 - val_accuracy: 0.7465 - lr: 0.0010\n",
            "Epoch 5/30\n",
            "166/166 [==============================] - 197s 1s/step - loss: 0.4962 - accuracy: 0.7978 - val_loss: 0.5406 - val_accuracy: 0.8012 - lr: 0.0010\n",
            "Epoch 6/30\n",
            "166/166 [==============================] - 198s 1s/step - loss: 0.4651 - accuracy: 0.8097 - val_loss: 0.5090 - val_accuracy: 0.7882 - lr: 0.0010\n",
            "Epoch 7/30\n",
            "166/166 [==============================] - 195s 1s/step - loss: 0.4485 - accuracy: 0.8175 - val_loss: 0.5311 - val_accuracy: 0.7856 - lr: 0.0010\n",
            "Epoch 8/30\n",
            "166/166 [==============================] - 218s 1s/step - loss: 0.4522 - accuracy: 0.8142 - val_loss: 0.4902 - val_accuracy: 0.7986 - lr: 0.0010\n",
            "Epoch 9/30\n",
            "166/166 [==============================] - 196s 1s/step - loss: 0.4142 - accuracy: 0.8337 - val_loss: 0.5099 - val_accuracy: 0.7891 - lr: 0.0010\n",
            "Epoch 10/30\n",
            "166/166 [==============================] - ETA: 0s - loss: 0.4050 - accuracy: 0.8393\n",
            "Epoch 10: ReduceLROnPlateau reducing learning rate to 0.00020000000949949026.\n",
            "166/166 [==============================] - 196s 1s/step - loss: 0.4050 - accuracy: 0.8393 - val_loss: 0.5185 - val_accuracy: 0.7986 - lr: 0.0010\n",
            "Epoch 11/30\n",
            "166/166 [==============================] - 195s 1s/step - loss: 0.3321 - accuracy: 0.8707 - val_loss: 0.4494 - val_accuracy: 0.8177 - lr: 2.0000e-04\n",
            "Epoch 12/30\n",
            "166/166 [==============================] - 196s 1s/step - loss: 0.2913 - accuracy: 0.8812 - val_loss: 0.4805 - val_accuracy: 0.8125 - lr: 2.0000e-04\n",
            "Epoch 13/30\n",
            "166/166 [==============================] - ETA: 0s - loss: 0.2800 - accuracy: 0.8915\n",
            "Epoch 13: ReduceLROnPlateau reducing learning rate to 4.0000001899898055e-05.\n",
            "166/166 [==============================] - 198s 1s/step - loss: 0.2800 - accuracy: 0.8915 - val_loss: 0.5034 - val_accuracy: 0.8116 - lr: 2.0000e-04\n",
            "Epoch 14/30\n",
            "166/166 [==============================] - 199s 1s/step - loss: 0.2574 - accuracy: 0.9017 - val_loss: 0.4934 - val_accuracy: 0.8142 - lr: 4.0000e-05\n",
            "Epoch 15/30\n",
            "166/166 [==============================] - ETA: 0s - loss: 0.2494 - accuracy: 0.9024\n",
            "Epoch 15: ReduceLROnPlateau reducing learning rate to 8.000000525498762e-06.\n",
            "166/166 [==============================] - 198s 1s/step - loss: 0.2494 - accuracy: 0.9024 - val_loss: 0.5373 - val_accuracy: 0.8064 - lr: 4.0000e-05\n",
            "Epoch 16/30\n",
            "166/166 [==============================] - 201s 1s/step - loss: 0.2435 - accuracy: 0.9076 - val_loss: 0.4800 - val_accuracy: 0.8212 - lr: 8.0000e-06\n",
            "Epoch 17/30\n",
            "166/166 [==============================] - ETA: 0s - loss: 0.2393 - accuracy: 0.9087\n",
            "Epoch 17: ReduceLROnPlateau reducing learning rate to 1.6000001778593287e-06.\n",
            "166/166 [==============================] - 203s 1s/step - loss: 0.2393 - accuracy: 0.9087 - val_loss: 0.4799 - val_accuracy: 0.8186 - lr: 8.0000e-06\n",
            "Epoch 18/30\n",
            "166/166 [==============================] - 194s 1s/step - loss: 0.2355 - accuracy: 0.9076 - val_loss: 0.5206 - val_accuracy: 0.8030 - lr: 1.6000e-06\n",
            "Epoch 19/30\n",
            "166/166 [==============================] - ETA: 0s - loss: 0.2351 - accuracy: 0.9126\n",
            "Epoch 19: ReduceLROnPlateau reducing learning rate to 3.200000264769187e-07.\n",
            "166/166 [==============================] - 191s 1s/step - loss: 0.2351 - accuracy: 0.9126 - val_loss: 0.4880 - val_accuracy: 0.8142 - lr: 1.6000e-06\n",
            "Epoch 20/30\n",
            "166/166 [==============================] - 199s 1s/step - loss: 0.2330 - accuracy: 0.9102 - val_loss: 0.4792 - val_accuracy: 0.8281 - lr: 3.2000e-07\n",
            "Epoch 21/30\n",
            "166/166 [==============================] - ETA: 0s - loss: 0.2336 - accuracy: 0.9089\n",
            "Epoch 21: ReduceLROnPlateau reducing learning rate to 6.400000529538374e-08.\n",
            "166/166 [==============================] - 195s 1s/step - loss: 0.2336 - accuracy: 0.9089 - val_loss: 0.4774 - val_accuracy: 0.8229 - lr: 3.2000e-07\n",
            "Epoch 22/30\n",
            "166/166 [==============================] - 192s 1s/step - loss: 0.2301 - accuracy: 0.9114 - val_loss: 0.4697 - val_accuracy: 0.8229 - lr: 6.4000e-08\n",
            "Epoch 23/30\n",
            "166/166 [==============================] - ETA: 0s - loss: 0.2369 - accuracy: 0.9125\n",
            "Epoch 23: ReduceLROnPlateau reducing learning rate to 1.2800001059076749e-08.\n",
            "166/166 [==============================] - 200s 1s/step - loss: 0.2369 - accuracy: 0.9125 - val_loss: 0.4900 - val_accuracy: 0.8194 - lr: 6.4000e-08\n",
            "Epoch 24/30\n",
            "166/166 [==============================] - 195s 1s/step - loss: 0.2289 - accuracy: 0.9110 - val_loss: 0.4963 - val_accuracy: 0.8220 - lr: 1.2800e-08\n",
            "Epoch 25/30\n",
            "166/166 [==============================] - ETA: 0s - loss: 0.2345 - accuracy: 0.9085\n",
            "Epoch 25: ReduceLROnPlateau reducing learning rate to 2.5600002118153498e-09.\n",
            "166/166 [==============================] - 191s 1s/step - loss: 0.2345 - accuracy: 0.9085 - val_loss: 0.4835 - val_accuracy: 0.8116 - lr: 1.2800e-08\n",
            "Epoch 26/30\n",
            "166/166 [==============================] - 193s 1s/step - loss: 0.2359 - accuracy: 0.9093 - val_loss: 0.4949 - val_accuracy: 0.8177 - lr: 2.5600e-09\n",
            "Epoch 27/30\n",
            "166/166 [==============================] - ETA: 0s - loss: 0.2316 - accuracy: 0.9097Restoring model weights from the end of the best epoch: 20.\n",
            "\n",
            "Epoch 27: ReduceLROnPlateau reducing learning rate to 5.1200004236307e-10.\n",
            "166/166 [==============================] - 194s 1s/step - loss: 0.2316 - accuracy: 0.9097 - val_loss: 0.4786 - val_accuracy: 0.8264 - lr: 2.5600e-09\n",
            "Epoch 27: early stopping\n"
          ]
        }
      ],
      "source": [
        "ResNet50V2_history = ResNet50V2_Model.fit(train_data,\n",
        "                                          validation_data=validation_data,\n",
        "                                          epochs=30,\n",
        "                                          batch_size=batch_size,\n",
        "                                           callbacks=callbacks,\n",
        "                                          steps_per_epoch=steps_per_epoch,\n",
        "                                           validation_steps=validation_steps)"
      ]
    },
    {
      "cell_type": "code",
      "execution_count": null,
      "metadata": {
        "id": "RR24d6ljYDEl",
        "colab": {
          "base_uri": "https://localhost:8080/"
        },
        "outputId": "a8f1d110-3de3-4514-a83f-5784fd73ccef"
      },
      "outputs": [
        {
          "output_type": "stream",
          "name": "stdout",
          "text": [
            "45/45 [==============================] - 875s 20s/step - loss: 0.5387 - accuracy: 0.8004\n",
            "Test Loss: 0.53869\n",
            "Test Accuracy: 80.04%\n"
          ]
        }
      ],
      "source": [
        "ResNet50V2_Score = ResNet50V2_Model.evaluate(test_data)\n",
        "print(\"Test Loss: {:.5f}\".format(ResNet50V2_Score[0]))\n",
        "print(\"Test Accuracy: {:.2f}%\".format(ResNet50V2_Score[1] * 100))"
      ]
    },
    {
      "cell_type": "code",
      "execution_count": null,
      "metadata": {
        "id": "qt7-uBjxRL2y",
        "colab": {
          "base_uri": "https://localhost:8080/"
        },
        "outputId": "9f1c5ffb-fc62-45fe-dcf1-8d5797cb15c8"
      },
      "outputs": [
        {
          "output_type": "stream",
          "name": "stderr",
          "text": [
            "/usr/local/lib/python3.10/dist-packages/keras/src/engine/training.py:3103: UserWarning: You are saving your model as an HDF5 file via `model.save()`. This file format is considered legacy. We recommend using instead the native Keras format, e.g. `model.save('my_model.keras')`.\n",
            "  saving_api.save_model(\n"
          ]
        }
      ],
      "source": [
        "model_path = 'path to save the model'\n",
        "ResNet50V2_Model.save(model_path)"
      ]
    },
    {
      "cell_type": "code",
      "execution_count": null,
      "metadata": {
        "colab": {
          "base_uri": "https://localhost:8080/",
          "height": 487
        },
        "id": "LulBy1DEYFO4",
        "outputId": "5cf351bd-8f41-44a7-ceb2-000376090044"
      },
      "outputs": [
        {
          "output_type": "display_data",
          "data": {
            "text/plain": [
              "<Figure size 1500x500 with 2 Axes>"
            ],
            "image/png": "[encoded data removed]"
          },
          "metadata": {}
        }
      ],
      "source": [
        "def plot_curves(history):\n",
        "    loss = history.history[\"loss\"]\n",
        "    val_loss = history.history[\"val_loss\"]\n",
        "    accuracy = history.history[\"accuracy\"]\n",
        "    val_accuracy = history.history[\"val_accuracy\"]\n",
        "    epochs = range(len(history.history[\"loss\"]))\n",
        "\n",
        "    plt.figure(figsize=(15, 5))\n",
        "\n",
        "    # Plot loss\n",
        "    plt.subplot(1, 2, 1)\n",
        "    plt.plot(epochs, loss, label=\"training_loss\")\n",
        "    plt.plot(epochs, val_loss, label=\"val_loss\")\n",
        "    plt.title(\"Loss\")\n",
        "    plt.xlabel(\"epochs\")\n",
        "    plt.legend()\n",
        "\n",
        "    # Plot accuracy\n",
        "    plt.subplot(1, 2, 2)\n",
        "    plt.plot(epochs, accuracy, label=\"training_accuracy\")\n",
        "    plt.plot(epochs, val_accuracy, label=\"val_accuracy\")\n",
        "    plt.title(\"Accuracy\")\n",
        "    plt.xlabel(\"epochs\")\n",
        "    plt.legend()\n",
        "\n",
        "plot_curves(ResNet50V2_history)"
      ]
    }
  ],
  "metadata": {
    "colab": {
      "provenance": [],
      "gpuType": "T4"
    },
    "kernelspec": {
      "display_name": "Python 3",
      "name": "python3"
    },
    "language_info": {
      "name": "python"
    },
    "accelerator": "GPU"
  },
  "nbformat": 4,
  "nbformat_minor": 0
}